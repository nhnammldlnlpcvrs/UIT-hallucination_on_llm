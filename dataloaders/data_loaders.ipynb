{
 "cells": [
  {
   "cell_type": "code",
   "execution_count": 1,
   "id": "2ccde1ca",
   "metadata": {},
   "outputs": [],
   "source": [
    "!pip install transformers torch pandas --quiet"
   ]
  },
  {
   "cell_type": "code",
   "execution_count": 2,
   "id": "17634214",
   "metadata": {},
   "outputs": [
    {
     "name": "stderr",
     "output_type": "stream",
     "text": [
      "c:\\Users\\nghoo\\AppData\\Local\\anaconda3\\envs\\hallucination_llm_env\\lib\\site-packages\\tqdm\\auto.py:21: TqdmWarning: IProgress not found. Please update jupyter and ipywidgets. See https://ipywidgets.readthedocs.io/en/stable/user_install.html\n",
      "  from .autonotebook import tqdm as notebook_tqdm\n"
     ]
    }
   ],
   "source": [
    "import pandas as pd\n",
    "import torch\n",
    "from torch.utils.data import Dataset, DataLoader\n",
    "from transformers import AutoTokenizer"
   ]
  },
  {
   "cell_type": "code",
   "execution_count": 3,
   "id": "f2bf6e81",
   "metadata": {},
   "outputs": [],
   "source": [
    "class FactCheckDataset(Dataset):\n",
    "    def __init__(self, csv_file, tokenizer, max_len=256):\n",
    "        self.data = pd.read_csv(csv_file)\n",
    "        self.tokenizer = tokenizer\n",
    "        self.max_len = max_len\n",
    "\n",
    "        # Map nhãn -> id\n",
    "        self.label2id = {\"no\": 0, \"intrinsic\": 1, \"extrinsic\": 2}\n",
    "        self.id2label = {v: k for k, v in self.label2id.items()}\n",
    "\n",
    "    def __len__(self):\n",
    "        return len(self.data)\n",
    "\n",
    "    def __getitem__(self, idx):\n",
    "        row = self.data.iloc[idx]\n",
    "\n",
    "        text = f\"Context: {row['context']} Prompt: {row['prompt']} Response: {row['response']}\"\n",
    "        label = self.label2id[row[\"label\"]]\n",
    "\n",
    "        # Tokenize\n",
    "        encoding = self.tokenizer(\n",
    "            text,\n",
    "            truncation=True,\n",
    "            padding=\"max_length\",\n",
    "            max_length=self.max_len,\n",
    "            return_tensors=\"pt\"\n",
    "        )\n",
    "\n",
    "        return {\n",
    "            \"input_ids\": encoding[\"input_ids\"].squeeze(0),\n",
    "            \"attention_mask\": encoding[\"attention_mask\"].squeeze(0),\n",
    "            \"labels\": torch.tensor(label, dtype=torch.long)\n",
    "        }"
   ]
  },
  {
   "cell_type": "code",
   "execution_count": 4,
   "id": "8722df61",
   "metadata": {},
   "outputs": [],
   "source": [
    "def create_dataloaders(train_path, test_path, tokenizer, batch_size=16, max_len=256):\n",
    "    train_dataset = FactCheckDataset(train_path, tokenizer, max_len=max_len)\n",
    "    test_dataset = FactCheckDataset(test_path, tokenizer, max_len=max_len)\n",
    "\n",
    "    train_loader = DataLoader(train_dataset, batch_size=batch_size, shuffle=True)\n",
    "    test_loader  = DataLoader(test_dataset, batch_size=batch_size, shuffle=False)\n",
    "\n",
    "    return train_loader, test_loader, train_dataset.label2id"
   ]
  },
  {
   "cell_type": "code",
   "execution_count": 5,
   "id": "cd25338c",
   "metadata": {},
   "outputs": [],
   "source": [
    "tokenizer = AutoTokenizer.from_pretrained(\"vinai/phobert-base\", use_fast=False)"
   ]
  },
  {
   "cell_type": "code",
   "execution_count": 6,
   "id": "d4b12ded",
   "metadata": {},
   "outputs": [],
   "source": [
    "train_loader, test_loader, label2id = create_dataloaders(\n",
    "    \"../data/vihallu-train.csv\",\n",
    "    \"../data/vihallu-public-test.csv\",\n",
    "    tokenizer,\n",
    "    batch_size=4,\n",
    "    max_len=128\n",
    ")"
   ]
  },
  {
   "cell_type": "code",
   "execution_count": 7,
   "id": "ab821d56",
   "metadata": {},
   "outputs": [
    {
     "name": "stdout",
     "output_type": "stream",
     "text": [
      "Label mapping: {'no': 0, 'intrinsic': 1, 'extrinsic': 2}\n"
     ]
    }
   ],
   "source": [
    "print(\"Label mapping:\", label2id)"
   ]
  },
  {
   "cell_type": "code",
   "execution_count": 8,
   "id": "25c1a3e9",
   "metadata": {},
   "outputs": [
    {
     "name": "stdout",
     "output_type": "stream",
     "text": [
      "input_ids shape: torch.Size([4, 128])\n",
      "attention_mask shape: torch.Size([4, 128])\n",
      "labels: tensor([2, 1, 2, 0])\n"
     ]
    }
   ],
   "source": [
    "# Lấy thử 1 batch\n",
    "batch = next(iter(train_loader))\n",
    "print(\"input_ids shape:\", batch[\"input_ids\"].shape)\n",
    "print(\"attention_mask shape:\", batch[\"attention_mask\"].shape)\n",
    "print(\"labels:\", batch[\"labels\"])"
   ]
  }
 ],
 "metadata": {
  "kernelspec": {
   "display_name": "hallucination_llm_env",
   "language": "python",
   "name": "python3"
  },
  "language_info": {
   "codemirror_mode": {
    "name": "ipython",
    "version": 3
   },
   "file_extension": ".py",
   "mimetype": "text/x-python",
   "name": "python",
   "nbconvert_exporter": "python",
   "pygments_lexer": "ipython3",
   "version": "3.10.18"
  }
 },
 "nbformat": 4,
 "nbformat_minor": 5
}
