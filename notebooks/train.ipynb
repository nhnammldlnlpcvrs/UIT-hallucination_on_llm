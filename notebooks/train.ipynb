{
 "cells": [
  {
   "cell_type": "code",
   "execution_count": null,
   "id": "82aca471",
   "metadata": {},
   "outputs": [],
   "source": [
    "!pip install transformers torch scikit-learn --quiet"
   ]
  },
  {
   "cell_type": "code",
   "execution_count": null,
   "id": "1c725f6c",
   "metadata": {},
   "outputs": [],
   "source": [
    "import torch\n",
    "from torch.utils.data import DataLoader\n",
    "from transformers import AutoTokenizer, AutoModelForSequenceClassification, AdamW, get_scheduler\n",
    "from sklearn.metrics import classification_report\n",
    "from tqdm import tqdm\n",
    "import os"
   ]
  },
  {
   "cell_type": "code",
   "execution_count": null,
   "id": "b9222704",
   "metadata": {},
   "outputs": [],
   "source": [
    "from data_loaders import FactCheckDataset, create_dataloaders"
   ]
  },
  {
   "cell_type": "code",
   "execution_count": null,
   "id": "162e5c3d",
   "metadata": {},
   "outputs": [],
   "source": [
    "model_name = \"vinai/phobert-base\"\n",
    "train_path = \"../data/vihallu-train.csv\"\n",
    "test_path  = \"../data/vihallu-public-test.csv\""
   ]
  },
  {
   "cell_type": "code",
   "execution_count": null,
   "id": "87e53bc4",
   "metadata": {},
   "outputs": [],
   "source": [
    "batch_size = 8\n",
    "max_len = 128\n",
    "epochs = 10\n",
    "lr = 2e-5\n",
    "device = torch.device(\"cuda\" if torch.cuda.is_available() else \"cpu\")"
   ]
  },
  {
   "cell_type": "code",
   "execution_count": null,
   "id": "d584123b",
   "metadata": {},
   "outputs": [],
   "source": [
    "tokenizer = AutoTokenizer.from_pretrained(model_name, use_fast=False)\n",
    "\n",
    "train_loader, test_loader, label2id = create_dataloaders(\n",
    "    train_path, test_path, tokenizer,\n",
    "    batch_size=batch_size,\n",
    "    max_len=max_len\n",
    ")\n",
    "\n",
    "id2label = {v:k for k,v in label2id.items()}\n",
    "print(\"Label mapping:\", label2id)"
   ]
  },
  {
   "cell_type": "code",
   "execution_count": null,
   "id": "1eb436bb",
   "metadata": {},
   "outputs": [],
   "source": [
    "model = AutoModelForSequenceClassification.from_pretrained(\n",
    "    model_name,\n",
    "    num_labels=len(label2id),\n",
    "    id2label=id2label,\n",
    "    label2id=label2id\n",
    ")\n",
    "model.to(device)"
   ]
  },
  {
   "cell_type": "code",
   "execution_count": null,
   "id": "cfadf5f0",
   "metadata": {},
   "outputs": [],
   "source": [
    "optimizer = AdamW(model.parameters(), lr=lr)\n",
    "num_training_steps = epochs * len(train_loader)\n",
    "lr_scheduler = get_scheduler(\n",
    "    \"linear\", optimizer=optimizer,\n",
    "    num_warmup_steps=0,\n",
    "    num_training_steps=num_training_steps\n",
    ")"
   ]
  },
  {
   "cell_type": "code",
   "execution_count": null,
   "id": "2ea68260",
   "metadata": {},
   "outputs": [],
   "source": [
    "from sklearn.metrics import accuracy_score\n",
    "\n",
    "for epoch in range(epochs):\n",
    "    print(f\"\\n===== Epoch {epoch+1}/{epochs} =====\")\n",
    "    model.train()\n",
    "    total_loss, total_preds, total_labels = 0, [], []\n",
    "\n",
    "    loop = tqdm(train_loader, desc=\"Training\", leave=True)\n",
    "    for batch in loop:\n",
    "        optimizer.zero_grad()\n",
    "\n",
    "        input_ids = batch[\"input_ids\"].to(device)\n",
    "        attention_mask = batch[\"attention_mask\"].to(device)\n",
    "        labels = batch[\"labels\"].to(device)\n",
    "\n",
    "        outputs = model(input_ids=input_ids,\n",
    "                        attention_mask=attention_mask,\n",
    "                        labels=labels)\n",
    "        loss = outputs.loss\n",
    "        total_loss += loss.item()\n",
    "\n",
    "        loss.backward()\n",
    "        torch.nn.utils.clip_grad_norm_(model.parameters(), 1.0)\n",
    "        optimizer.step()\n",
    "        lr_scheduler.step()\n",
    "\n",
    "        preds = torch.argmax(outputs.logits, dim=-1)\n",
    "        total_preds.extend(preds.cpu().numpy())\n",
    "        total_labels.extend(labels.cpu().numpy())\n",
    "\n",
    "        loop.set_postfix(loss=loss.item())\n",
    "\n",
    "    avg_loss = total_loss / len(train_loader)\n",
    "    acc = accuracy_score(total_labels, total_preds)\n",
    "    print(f\"Train Loss: {avg_loss:.4f}, Train Acc: {acc:.4f}\")\n"
   ]
  },
  {
   "cell_type": "code",
   "execution_count": null,
   "id": "67eaa887",
   "metadata": {},
   "outputs": [],
   "source": [
    "model.eval()\n",
    "preds, trues = [], []\n",
    "with torch.no_grad():\n",
    "    for batch in test_loader:\n",
    "            input_ids = batch[\"input_ids\"].to(device)\n",
    "            attention_mask = batch[\"attention_mask\"].to(device)\n",
    "            labels = batch[\"labels\"].to(device)\n",
    "\n",
    "            outputs = model(input_ids=input_ids,\n",
    "                            attention_mask=attention_mask)\n",
    "            logits = outputs.logits\n",
    "            predictions = torch.argmax(logits, dim=-1)\n",
    "\n",
    "            preds.extend(predictions.cpu().numpy())\n",
    "            trues.extend(labels.cpu().numpy())\n",
    "\n",
    "print(\"Classification Report:\")\n",
    "print(classification_report(trues, preds, target_names=list(label2id.keys())))"
   ]
  },
  {
   "cell_type": "code",
   "execution_count": null,
   "id": "f87fd06f",
   "metadata": {},
   "outputs": [],
   "source": [
    "save_dir = \"./checkpoints\"\n",
    "os.makedirs(save_dir, exist_ok=True)\n",
    "model.save_pretrained(save_dir)\n",
    "tokenizer.save_pretrained(save_dir)\n",
    "print(f\"Model saved to {save_dir}\")"
   ]
  },
  {
   "cell_type": "code",
   "execution_count": null,
   "id": "f91d0a7e",
   "metadata": {},
   "outputs": [],
   "source": [
    "import pandas as pd\n",
    "\n",
    "# Sau khi train xong model\n",
    "def predict_and_save(model, tokenizer, test_path, save_path, label2id, max_len=128, batch_size=8):\n",
    "    # Load file test\n",
    "    df_test = pd.read_csv(test_path)\n",
    "\n",
    "    # Convert id->label mapping\n",
    "    id2label = {v: k for k, v in label2id.items()}\n",
    "\n",
    "    # Tokenize test data (không có nhãn)\n",
    "    encodings = tokenizer(\n",
    "        df_test[\"text\"].tolist(),\n",
    "        truncation=True,\n",
    "        padding=True,\n",
    "        max_length=max_len,\n",
    "        return_tensors=\"pt\"\n",
    "    )\n",
    "\n",
    "    test_dataset = torch.utils.data.TensorDataset(\n",
    "        encodings[\"input_ids\"],\n",
    "        encodings[\"attention_mask\"],\n",
    "    )\n",
    "    test_loader = DataLoader(test_dataset, batch_size=batch_size)\n",
    "\n",
    "    model.eval()\n",
    "    preds = []\n",
    "\n",
    "    with torch.no_grad():\n",
    "        for batch in test_loader:\n",
    "            input_ids, attention_mask = [x.to(device) for x in batch]\n",
    "            outputs = model(input_ids=input_ids, attention_mask=attention_mask)\n",
    "            logits = outputs.logits\n",
    "            batch_preds = torch.argmax(logits, dim=-1)\n",
    "            preds.extend(batch_preds.cpu().numpy())\n",
    "\n",
    "    # Map predictions to labels\n",
    "    pred_labels = [id2label[p] for p in preds]\n",
    "\n",
    "    # Tạo file submit\n",
    "    submit_df = pd.DataFrame({\n",
    "        \"id\": df_test[\"id\"],\n",
    "        \"predict_label\": pred_labels\n",
    "    })\n",
    "    submit_df.to_csv(save_path, index=False)\n",
    "    print(f\"✅ Submit file saved to {save_path}\")\n",
    "    return submit_df\n",
    "\n",
    "\n",
    "submit_path = \"../result/submit.csv\"\n",
    "submit_df = predict_and_save(model, tokenizer, test_path, submit_path, label2id, max_len, batch_size)\n",
    "\n",
    "print(submit_df.head())\n"
   ]
  }
 ],
 "metadata": {
  "language_info": {
   "name": "python"
  }
 },
 "nbformat": 4,
 "nbformat_minor": 5
}
