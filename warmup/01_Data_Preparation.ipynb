{
 "cells": [
  {
   "cell_type": "code",
   "execution_count": 1,
   "id": "5582e6be",
   "metadata": {},
   "outputs": [],
   "source": [
    "import pandas as pd\n",
    "import json\n",
    "import re\n",
    "from sklearn.model_selection import train_test_split"
   ]
  },
  {
   "cell_type": "code",
   "execution_count": 2,
   "id": "e2560d8e",
   "metadata": {},
   "outputs": [
    {
     "name": "stdout",
     "output_type": "stream",
     "text": [
      "Số dòng dữ liệu gốc: 198\n"
     ]
    },
    {
     "data": {
      "text/html": [
       "<div>\n",
       "<style scoped>\n",
       "    .dataframe tbody tr th:only-of-type {\n",
       "        vertical-align: middle;\n",
       "    }\n",
       "\n",
       "    .dataframe tbody tr th {\n",
       "        vertical-align: top;\n",
       "    }\n",
       "\n",
       "    .dataframe thead th {\n",
       "        text-align: right;\n",
       "    }\n",
       "</style>\n",
       "<table border=\"1\" class=\"dataframe\">\n",
       "  <thead>\n",
       "    <tr style=\"text-align: right;\">\n",
       "      <th></th>\n",
       "      <th>id</th>\n",
       "      <th>context</th>\n",
       "      <th>prompt</th>\n",
       "      <th>response</th>\n",
       "      <th>label</th>\n",
       "    </tr>\n",
       "  </thead>\n",
       "  <tbody>\n",
       "    <tr>\n",
       "      <th>0</th>\n",
       "      <td>c480e0d2-72e5-47d6-baca-a884db935c8c</td>\n",
       "      <td>Theo pháp lệnh Vincennes năm 1374, vương quốc ...</td>\n",
       "      <td>Quyền phản đối được khôi phục bởi Orléans đã g...</td>\n",
       "      <td>Quyền phản đối còn cho phép Nghị viện được bổ ...</td>\n",
       "      <td>extrinsic</td>\n",
       "    </tr>\n",
       "    <tr>\n",
       "      <th>1</th>\n",
       "      <td>8e225849-4ed1-4397-8519-2b4cfee0c7c6</td>\n",
       "      <td>Hệ thống đường biển xuất phát từ các cảng biển...</td>\n",
       "      <td>Những sông lớn nào là các tuyến đường thủy nội...</td>\n",
       "      <td>Các tuyến đường thủy nội địa huyết mạch chạy t...</td>\n",
       "      <td>intrinsic</td>\n",
       "    </tr>\n",
       "    <tr>\n",
       "      <th>2</th>\n",
       "      <td>c5a2aef8-4c3f-4bac-9fc3-814094578fc0</td>\n",
       "      <td>Năm 1928, Bộ Giao thông khởi thảo kế hoạch côn...</td>\n",
       "      <td>Độ dài công lộ Hán Trung-Thất Bàn Quan là bao ...</td>\n",
       "      <td>Công lộ Hán Trung-Thất Bàn Quan dài hơn 150 km...</td>\n",
       "      <td>extrinsic</td>\n",
       "    </tr>\n",
       "    <tr>\n",
       "      <th>3</th>\n",
       "      <td>0bae8fee-cd84-4ec1-a324-0777f6fa7a32</td>\n",
       "      <td>Sự tiến hóa của giới thực vật đã theo xu hướng...</td>\n",
       "      <td>Vì thực vật hạt trần chiếm ưu thế trong việc t...</td>\n",
       "      <td>Thực vật hạt trần kém đa dạng hơn và hiếm gặp ...</td>\n",
       "      <td>no</td>\n",
       "    </tr>\n",
       "    <tr>\n",
       "      <th>4</th>\n",
       "      <td>a8dcd1ed-c9a1-4786-b97b-27244896ff95</td>\n",
       "      <td>Kể từ những năm 1970, chính phủ cũng thực hiện...</td>\n",
       "      <td>Cacs loaji dược pham muôn vào thi trường My ph...</td>\n",
       "      <td>Các loại dược phẩm muốn vào thị trường Mỹ phải...</td>\n",
       "      <td>no</td>\n",
       "    </tr>\n",
       "  </tbody>\n",
       "</table>\n",
       "</div>"
      ],
      "text/plain": [
       "                                     id  \\\n",
       "0  c480e0d2-72e5-47d6-baca-a884db935c8c   \n",
       "1  8e225849-4ed1-4397-8519-2b4cfee0c7c6   \n",
       "2  c5a2aef8-4c3f-4bac-9fc3-814094578fc0   \n",
       "3  0bae8fee-cd84-4ec1-a324-0777f6fa7a32   \n",
       "4  a8dcd1ed-c9a1-4786-b97b-27244896ff95   \n",
       "\n",
       "                                             context  \\\n",
       "0  Theo pháp lệnh Vincennes năm 1374, vương quốc ...   \n",
       "1  Hệ thống đường biển xuất phát từ các cảng biển...   \n",
       "2  Năm 1928, Bộ Giao thông khởi thảo kế hoạch côn...   \n",
       "3  Sự tiến hóa của giới thực vật đã theo xu hướng...   \n",
       "4  Kể từ những năm 1970, chính phủ cũng thực hiện...   \n",
       "\n",
       "                                              prompt  \\\n",
       "0  Quyền phản đối được khôi phục bởi Orléans đã g...   \n",
       "1  Những sông lớn nào là các tuyến đường thủy nội...   \n",
       "2  Độ dài công lộ Hán Trung-Thất Bàn Quan là bao ...   \n",
       "3  Vì thực vật hạt trần chiếm ưu thế trong việc t...   \n",
       "4  Cacs loaji dược pham muôn vào thi trường My ph...   \n",
       "\n",
       "                                            response      label  \n",
       "0  Quyền phản đối còn cho phép Nghị viện được bổ ...  extrinsic  \n",
       "1  Các tuyến đường thủy nội địa huyết mạch chạy t...  intrinsic  \n",
       "2  Công lộ Hán Trung-Thất Bàn Quan dài hơn 150 km...  extrinsic  \n",
       "3  Thực vật hạt trần kém đa dạng hơn và hiếm gặp ...         no  \n",
       "4  Các loại dược phẩm muốn vào thị trường Mỹ phải...         no  "
      ]
     },
     "execution_count": 2,
     "metadata": {},
     "output_type": "execute_result"
    }
   ],
   "source": [
    "raw_data = pd.read_csv(\"vihallu-warmup.csv\")\n",
    "\n",
    "print(\"Số dòng dữ liệu gốc:\", len(raw_data))\n",
    "raw_data.head()"
   ]
  },
  {
   "cell_type": "markdown",
   "id": "3302736d",
   "metadata": {},
   "source": [
    "- Loại bỏ dữ liệu bị thiếu\n",
    "\n",
    "- Xóa trùng lặp\n",
    "\n",
    "- Chuẩn hóa văn bản"
   ]
  },
  {
   "cell_type": "code",
   "execution_count": 3,
   "id": "d512dd74",
   "metadata": {},
   "outputs": [
    {
     "name": "stdout",
     "output_type": "stream",
     "text": [
      "Sau khi tiền xử lý: 198\n"
     ]
    },
    {
     "data": {
      "text/html": [
       "<div>\n",
       "<style scoped>\n",
       "    .dataframe tbody tr th:only-of-type {\n",
       "        vertical-align: middle;\n",
       "    }\n",
       "\n",
       "    .dataframe tbody tr th {\n",
       "        vertical-align: top;\n",
       "    }\n",
       "\n",
       "    .dataframe thead th {\n",
       "        text-align: right;\n",
       "    }\n",
       "</style>\n",
       "<table border=\"1\" class=\"dataframe\">\n",
       "  <thead>\n",
       "    <tr style=\"text-align: right;\">\n",
       "      <th></th>\n",
       "      <th>id</th>\n",
       "      <th>context</th>\n",
       "      <th>prompt</th>\n",
       "      <th>response</th>\n",
       "      <th>label</th>\n",
       "    </tr>\n",
       "  </thead>\n",
       "  <tbody>\n",
       "    <tr>\n",
       "      <th>0</th>\n",
       "      <td>c480e0d2-72e5-47d6-baca-a884db935c8c</td>\n",
       "      <td>Theo pháp lệnh Vincennes năm 1374, vương quốc ...</td>\n",
       "      <td>Quyền phản đối được khôi phục bởi Orléans đã g...</td>\n",
       "      <td>Quyền phản đối còn cho phép Nghị viện được bổ ...</td>\n",
       "      <td>extrinsic</td>\n",
       "    </tr>\n",
       "    <tr>\n",
       "      <th>1</th>\n",
       "      <td>8e225849-4ed1-4397-8519-2b4cfee0c7c6</td>\n",
       "      <td>Hệ thống đường biển xuất phát từ các cảng biển...</td>\n",
       "      <td>Những sông lớn nào là các tuyến đường thủy nội...</td>\n",
       "      <td>Các tuyến đường thủy nội địa huyết mạch chạy t...</td>\n",
       "      <td>intrinsic</td>\n",
       "    </tr>\n",
       "    <tr>\n",
       "      <th>2</th>\n",
       "      <td>c5a2aef8-4c3f-4bac-9fc3-814094578fc0</td>\n",
       "      <td>Năm 1928, Bộ Giao thông khởi thảo kế hoạch côn...</td>\n",
       "      <td>Độ dài công lộ Hán TrungThất Bàn Quan là bao n...</td>\n",
       "      <td>Công lộ Hán TrungThất Bàn Quan dài hơn 150 km,...</td>\n",
       "      <td>extrinsic</td>\n",
       "    </tr>\n",
       "    <tr>\n",
       "      <th>3</th>\n",
       "      <td>0bae8fee-cd84-4ec1-a324-0777f6fa7a32</td>\n",
       "      <td>Sự tiến hóa của giới thực vật đã theo xu hướng...</td>\n",
       "      <td>Vì thực vật hạt trần chiếm ưu thế trong việc t...</td>\n",
       "      <td>Thực vật hạt trần kém đa dạng hơn và hiếm gặp ...</td>\n",
       "      <td>no</td>\n",
       "    </tr>\n",
       "    <tr>\n",
       "      <th>4</th>\n",
       "      <td>a8dcd1ed-c9a1-4786-b97b-27244896ff95</td>\n",
       "      <td>Kể từ những năm 1970, chính phủ cũng thực hiện...</td>\n",
       "      <td>Cacs loaji dược pham muôn vào thi trường My ph...</td>\n",
       "      <td>Các loại dược phẩm muốn vào thị trường Mỹ phải...</td>\n",
       "      <td>no</td>\n",
       "    </tr>\n",
       "  </tbody>\n",
       "</table>\n",
       "</div>"
      ],
      "text/plain": [
       "                                     id  \\\n",
       "0  c480e0d2-72e5-47d6-baca-a884db935c8c   \n",
       "1  8e225849-4ed1-4397-8519-2b4cfee0c7c6   \n",
       "2  c5a2aef8-4c3f-4bac-9fc3-814094578fc0   \n",
       "3  0bae8fee-cd84-4ec1-a324-0777f6fa7a32   \n",
       "4  a8dcd1ed-c9a1-4786-b97b-27244896ff95   \n",
       "\n",
       "                                             context  \\\n",
       "0  Theo pháp lệnh Vincennes năm 1374, vương quốc ...   \n",
       "1  Hệ thống đường biển xuất phát từ các cảng biển...   \n",
       "2  Năm 1928, Bộ Giao thông khởi thảo kế hoạch côn...   \n",
       "3  Sự tiến hóa của giới thực vật đã theo xu hướng...   \n",
       "4  Kể từ những năm 1970, chính phủ cũng thực hiện...   \n",
       "\n",
       "                                              prompt  \\\n",
       "0  Quyền phản đối được khôi phục bởi Orléans đã g...   \n",
       "1  Những sông lớn nào là các tuyến đường thủy nội...   \n",
       "2  Độ dài công lộ Hán TrungThất Bàn Quan là bao n...   \n",
       "3  Vì thực vật hạt trần chiếm ưu thế trong việc t...   \n",
       "4  Cacs loaji dược pham muôn vào thi trường My ph...   \n",
       "\n",
       "                                            response      label  \n",
       "0  Quyền phản đối còn cho phép Nghị viện được bổ ...  extrinsic  \n",
       "1  Các tuyến đường thủy nội địa huyết mạch chạy t...  intrinsic  \n",
       "2  Công lộ Hán TrungThất Bàn Quan dài hơn 150 km,...  extrinsic  \n",
       "3  Thực vật hạt trần kém đa dạng hơn và hiếm gặp ...         no  \n",
       "4  Các loại dược phẩm muốn vào thị trường Mỹ phải...         no  "
      ]
     },
     "execution_count": 3,
     "metadata": {},
     "output_type": "execute_result"
    }
   ],
   "source": [
    "def clean_text(text):\n",
    "    if pd.isna(text):\n",
    "        return \"\"\n",
    "    # Xóa ký tự đặc biệt, giữ lại chữ, số, dấu câu cơ bản\n",
    "    text = re.sub(r\"[^a-zA-Z0-9À-ỹ\\s\\.,!?]\", \"\", str(text))\n",
    "    # Chuẩn hóa khoảng trắng\n",
    "    text = re.sub(r\"\\s+\", \" \", text).strip()\n",
    "    return text\n",
    "\n",
    "# Áp dụng tiền xử lý\n",
    "data = raw_data.dropna(subset=[\"prompt\", \"response\"]).drop_duplicates()\n",
    "data[\"context\"] = data[\"context\"].apply(clean_text)\n",
    "data[\"prompt\"] = data[\"prompt\"].apply(clean_text)\n",
    "data[\"response\"] = data[\"response\"].apply(clean_text)\n",
    "\n",
    "print(\"Sau khi tiền xử lý:\", len(data))\n",
    "data.head()"
   ]
  },
  {
   "cell_type": "code",
   "execution_count": 4,
   "id": "6c4da45b",
   "metadata": {},
   "outputs": [
    {
     "name": "stdout",
     "output_type": "stream",
     "text": [
      "Train size: 158\n",
      "Validation size: 20\n",
      "Test size: 20\n"
     ]
    }
   ],
   "source": [
    "# Tách 80% train, 10% validation, 10% test\n",
    "train_data, test_data = train_test_split(data, test_size=0.2, random_state=42, stratify=data[\"label\"])\n",
    "val_data, test_data = train_test_split(test_data, test_size=0.5, random_state=42, stratify=test_data[\"label\"])\n",
    "\n",
    "print(\"Train size:\", len(train_data))\n",
    "print(\"Validation size:\", len(val_data))\n",
    "print(\"Test size:\", len(test_data))"
   ]
  },
  {
   "cell_type": "markdown",
   "id": "f9574e80",
   "metadata": {},
   "source": [
    "### Chuyển dữ liệu sang format conversation"
   ]
  },
  {
   "cell_type": "code",
   "execution_count": 5,
   "id": "2e1607f4",
   "metadata": {},
   "outputs": [
    {
     "name": "stdout",
     "output_type": "stream",
     "text": [
      "Ví dụ 1 sample sau khi chuẩn hóa:\n",
      "{\n",
      "  \"id\": \"0fa12b46-1bab-4631-859c-a385199befd8\",\n",
      "  \"messages\": [\n",
      "    {\n",
      "      \"role\": \"system\",\n",
      "      \"content\": \"Thành phố trải qua tái phát triển quy mô lớn trong các thập niên 1950 và 1960. Quá trình này gồm có các bất động sản cao tầng quy mô lớn như Castle Vale. Bull Ring được xây dựng lại và ga Birmingham New Street được tái phát triển. Trong các thập niên sau Chiến tranh thế giới thứ hai, thành phần dân tộc tại Birmingham có thay đổi quan trọng, do thành phố tiếp nhận các dòng di dân đến từ các quốc gia trong và ngoài Thịnh vượng chung. The citys population peaked in 1951 at 1,113,000 residents.\"\n",
      "    },\n",
      "    {\n",
      "      \"role\": \"user\",\n",
      "      \"content\": \"Công trình nào được xây dựng lại vào thập niên 50 và 60 của thế kỉ XX, trong khi dân số thành phố đạt đỉnh vào năm 1970 với 1,113,000 cư dân?\"\n",
      "    },\n",
      "    {\n",
      "      \"role\": \"assistant\",\n",
      "      \"content\": \"Castle Vale được xây dựng lại trong thập niên 50 và 60, đồng thời dân số thành phố đạt đỉnh vào năm 1970 với 1,113,000 cư dân.\"\n",
      "    }\n",
      "  ],\n",
      "  \"label\": \"intrinsic\"\n",
      "}\n"
     ]
    }
   ],
   "source": [
    "def convert_to_conversation(df):\n",
    "    formatted = []\n",
    "    for _, row in df.iterrows():\n",
    "        context = row.get(\"context\", \"\")\n",
    "        prompt = row.get(\"prompt\", \"\")\n",
    "        response = row.get(\"response\", \"\")\n",
    "        label = row.get(\"label\", \"\")\n",
    "\n",
    "        messages = []\n",
    "        if context.strip():\n",
    "            messages.append({\"role\": \"system\", \"content\": context})\n",
    "        messages.append({\"role\": \"user\", \"content\": prompt})\n",
    "        messages.append({\"role\": \"assistant\", \"content\": response})\n",
    "\n",
    "        formatted.append({\n",
    "            \"id\": row.get(\"id\", \"\"),\n",
    "            \"messages\": messages,\n",
    "            \"label\": label\n",
    "        })\n",
    "    return formatted\n",
    "\n",
    "train_formatted = convert_to_conversation(train_data)\n",
    "val_formatted = convert_to_conversation(val_data)\n",
    "test_formatted = convert_to_conversation(test_data)\n",
    "\n",
    "print(\"Ví dụ 1 sample sau khi chuẩn hóa:\")\n",
    "print(json.dumps(train_formatted[0], indent=2, ensure_ascii=False))"
   ]
  },
  {
   "cell_type": "markdown",
   "id": "d9ef2d74",
   "metadata": {},
   "source": [
    "### Lưu ra file JSONL"
   ]
  },
  {
   "cell_type": "code",
   "execution_count": 6,
   "id": "f582ee44",
   "metadata": {},
   "outputs": [
    {
     "name": "stdout",
     "output_type": "stream",
     "text": [
      "Đã lưu train/val/test JSONL!\n"
     ]
    }
   ],
   "source": [
    "def save_jsonl(data, path):\n",
    "    with open(path, \"w\", encoding=\"utf-8\") as f:\n",
    "        for item in data:\n",
    "            f.write(json.dumps(item, ensure_ascii=False) + \"\\n\")\n",
    "\n",
    "save_jsonl(train_formatted, \"train.jsonl\")\n",
    "save_jsonl(val_formatted, \"val.jsonl\")\n",
    "save_jsonl(test_formatted, \"test.jsonl\")\n",
    "\n",
    "print(\"Đã lưu train/val/test JSONL!\")"
   ]
  },
  {
   "cell_type": "markdown",
   "id": "b76acfbb",
   "metadata": {},
   "source": [
    "### Kiểm tra thử với HuggingFace Dataset"
   ]
  },
  {
   "cell_type": "code",
   "execution_count": 8,
   "id": "4e1589e7",
   "metadata": {},
   "outputs": [
    {
     "name": "stderr",
     "output_type": "stream",
     "text": [
      "c:\\Users\\nghoo\\AppData\\Local\\anaconda3\\envs\\hallucination_llm_env\\lib\\site-packages\\tqdm\\auto.py:21: TqdmWarning: IProgress not found. Please update jupyter and ipywidgets. See https://ipywidgets.readthedocs.io/en/stable/user_install.html\n",
      "  from .autonotebook import tqdm as notebook_tqdm\n",
      "Generating train split: 158 examples [00:00, 16183.55 examples/s]\n",
      "Generating train split: 20 examples [00:00, 2774.93 examples/s]\n",
      "Generating train split: 20 examples [00:00, 2803.40 examples/s]"
     ]
    },
    {
     "name": "stdout",
     "output_type": "stream",
     "text": [
      "Dataset({\n",
      "    features: ['id', 'messages', 'label'],\n",
      "    num_rows: 158\n",
      "})\n",
      "Dataset({\n",
      "    features: ['id', 'messages', 'label'],\n",
      "    num_rows: 20\n",
      "})\n",
      "Dataset({\n",
      "    features: ['id', 'messages', 'label'],\n",
      "    num_rows: 20\n",
      "})\n"
     ]
    },
    {
     "name": "stderr",
     "output_type": "stream",
     "text": [
      "\n"
     ]
    }
   ],
   "source": [
    "from datasets import Dataset\n",
    "\n",
    "train_dataset = Dataset.from_json(\"train.jsonl\")\n",
    "val_dataset = Dataset.from_json(\"val.jsonl\")\n",
    "test_dataset = Dataset.from_json(\"test.jsonl\")\n",
    "\n",
    "print(train_dataset)\n",
    "print(val_dataset)\n",
    "print(test_dataset)"
   ]
  }
 ],
 "metadata": {
  "kernelspec": {
   "display_name": "hallucination_llm_env",
   "language": "python",
   "name": "python3"
  },
  "language_info": {
   "codemirror_mode": {
    "name": "ipython",
    "version": 3
   },
   "file_extension": ".py",
   "mimetype": "text/x-python",
   "name": "python",
   "nbconvert_exporter": "python",
   "pygments_lexer": "ipython3",
   "version": "3.10.18"
  }
 },
 "nbformat": 4,
 "nbformat_minor": 5
}
