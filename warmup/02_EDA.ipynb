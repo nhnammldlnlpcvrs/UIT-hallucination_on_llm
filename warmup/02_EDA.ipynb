{
 "cells": [
  {
   "cell_type": "code",
   "execution_count": 6,
   "id": "e2e31c8c",
   "metadata": {},
   "outputs": [],
   "source": [
    "import pandas as pd\n",
    "import matplotlib.pyplot as plt\n",
    "import seaborn as sns"
   ]
  },
  {
   "cell_type": "code",
   "execution_count": 7,
   "id": "cd846309",
   "metadata": {},
   "outputs": [],
   "source": [
    "train_df = pd.read_json(\"train.jsonl\", lines=True)\n",
    "val_df = pd.read_json(\"val.jsonl\", lines=True)\n",
    "test_df = pd.read_json(\"test.jsonl\", lines=True)"
   ]
  },
  {
   "cell_type": "code",
   "execution_count": 8,
   "id": "df94fa80",
   "metadata": {},
   "outputs": [
    {
     "name": "stdout",
     "output_type": "stream",
     "text": [
      "Số lượng mẫu:\n",
      "Train: 158\n",
      "Val: 20\n",
      "Test: 20\n"
     ]
    }
   ],
   "source": [
    "print(\"Số lượng mẫu:\")\n",
    "print(\"Train:\", len(train_df))\n",
    "print(\"Val:\", len(val_df))\n",
    "print(\"Test:\", len(test_df))"
   ]
  },
  {
   "cell_type": "code",
   "execution_count": 9,
   "id": "c7c49827",
   "metadata": {},
   "outputs": [
    {
     "name": "stdout",
     "output_type": "stream",
     "text": [
      "\n",
      "Preview train:\n",
      "                                     id  \\\n",
      "0  0fa12b46-1bab-4631-859c-a385199befd8   \n",
      "1  aab6502c-ee2c-49b3-b0ac-5615600dc256   \n",
      "2  6c702550-a4a3-43ea-bf3b-448e246fd7cc   \n",
      "3  5be31e0f-a999-44f4-8a68-925c1a0fe3d1   \n",
      "4  1e501ac7-cab1-490a-b2d4-afbe55d4cf06   \n",
      "\n",
      "                                            messages      label  \n",
      "0  [{'role': 'system', 'content': 'Thành phố trải...  intrinsic  \n",
      "1  [{'role': 'system', 'content': 'Von Neumann bị...         no  \n",
      "2  [{'role': 'system', 'content': 'Hải ly, tên kh...         no  \n",
      "3  [{'role': 'system', 'content': 'Ngôn ngữ của l...         no  \n",
      "4  [{'role': 'system', 'content': 'Việc Mác phát ...         no  \n"
     ]
    }
   ],
   "source": [
    "print(\"\\nPreview train:\")\n",
    "print(train_df.head())"
   ]
  },
  {
   "cell_type": "code",
   "execution_count": 10,
   "id": "719a61c9",
   "metadata": {},
   "outputs": [
    {
     "name": "stdout",
     "output_type": "stream",
     "text": [
      "\n",
      "Các cột trong train: Index(['id', 'messages', 'label'], dtype='object')\n"
     ]
    }
   ],
   "source": [
    "print(\"\\nCác cột trong train:\", train_df.columns)"
   ]
  },
  {
   "cell_type": "code",
   "execution_count": 11,
   "id": "eb503b8b",
   "metadata": {},
   "outputs": [],
   "source": [
    "for col in [\"context\", \"prompt\", \"response\"]:\n",
    "    if col in train_df.columns:\n",
    "        train_df[col + \"_len\"] = train_df[col].apply(lambda x: len(str(x).split()))"
   ]
  },
  {
   "cell_type": "code",
   "execution_count": 12,
   "id": "890e2374",
   "metadata": {},
   "outputs": [],
   "source": [
    "if \"response_len\" in train_df.columns:\n",
    "    plt.figure(figsize=(8,5))\n",
    "    sns.histplot(train_df[\"response_len\"], bins=30, kde=True)\n",
    "    plt.title(\"Phân phối độ dài response\")\n",
    "    plt.xlabel(\"Số từ\")\n",
    "    plt.ylabel(\"Số mẫu\")\n",
    "    plt.show()"
   ]
  },
  {
   "cell_type": "code",
   "execution_count": 13,
   "id": "4503e5ae",
   "metadata": {},
   "outputs": [
    {
     "data": {
      "image/png": "[encoded data removed]",
      "text/plain": [
       "<Figure size 600x400 with 1 Axes>"
      ]
     },
     "metadata": {},
     "output_type": "display_data"
    }
   ],
   "source": [
    "if \"label\" in train_df.columns:\n",
    "    plt.figure(figsize=(6,4))\n",
    "    sns.countplot(x=\"label\", data=train_df)\n",
    "    plt.title(\"Phân bố nhãn trong train set\")\n",
    "    plt.show()"
   ]
  },
  {
   "cell_type": "markdown",
   "id": "04f32667",
   "metadata": {},
   "source": [
    "### Kiểm tra tỷ lệ train/val/test"
   ]
  },
  {
   "cell_type": "code",
   "execution_count": 14,
   "id": "028340c5",
   "metadata": {},
   "outputs": [
    {
     "name": "stdout",
     "output_type": "stream",
     "text": [
      "\n",
      "Tỷ lệ chia:\n",
      "Train: 79.80%\n",
      "Val: 10.10%\n",
      "Test: 10.10%\n"
     ]
    }
   ],
   "source": [
    "total = len(train_df) + len(val_df) + len(test_df)\n",
    "print(\"\\nTỷ lệ chia:\")\n",
    "print(\"Train: {:.2f}%\".format(len(train_df)/total*100))\n",
    "print(\"Val: {:.2f}%\".format(len(val_df)/total*100))\n",
    "print(\"Test: {:.2f}%\".format(len(test_df)/total*100))"
   ]
  }
 ],
 "metadata": {
  "kernelspec": {
   "display_name": "hallucination_llm_env",
   "language": "python",
   "name": "python3"
  },
  "language_info": {
   "codemirror_mode": {
    "name": "ipython",
    "version": 3
   },
   "file_extension": ".py",
   "mimetype": "text/x-python",
   "name": "python",
   "nbconvert_exporter": "python",
   "pygments_lexer": "ipython3",
   "version": "3.10.18"
  }
 },
 "nbformat": 4,
 "nbformat_minor": 5
}
