{
 "cells": [
  {
   "cell_type": "code",
   "execution_count": 52,
   "id": "ebb24c9e",
   "metadata": {},
   "outputs": [],
   "source": [
    "import torch\n",
    "from torch.utils.data import Dataset, DataLoader\n",
    "from transformers import AutoTokenizer, AutoModelForSequenceClassification\n",
    "from sklearn.metrics import classification_report, confusion_matrix\n",
    "import seaborn as sns\n",
    "import matplotlib.pyplot as plt\n",
    "import json\n",
    "import random\n",
    "import numpy as np\n",
    "import os"
   ]
  },
  {
   "cell_type": "code",
   "execution_count": 53,
   "id": "7a6e2084",
   "metadata": {},
   "outputs": [],
   "source": [
    "SEED = 42\n",
    "torch.manual_seed(SEED)\n",
    "torch.cuda.manual_seed_all(SEED)\n",
    "np.random.seed(SEED)\n",
    "random.seed(SEED)"
   ]
  },
  {
   "cell_type": "code",
   "execution_count": 54,
   "id": "b7a7153a",
   "metadata": {},
   "outputs": [],
   "source": [
    "SAVE_DIR = \"./model\"\n",
    "TEST_PATH = \"../test.jsonl\"\n",
    "MAX_LEN = 256\n",
    "BATCH_SIZE = 16\n",
    "device = torch.device(\"cuda\" if torch.cuda.is_available() else \"cpu\")"
   ]
  },
  {
   "cell_type": "code",
   "execution_count": 55,
   "id": "739efd19",
   "metadata": {},
   "outputs": [
    {
     "data": {
      "text/plain": [
       "RobertaForSequenceClassification(\n",
       "  (roberta): RobertaModel(\n",
       "    (embeddings): RobertaEmbeddings(\n",
       "      (word_embeddings): Embedding(64001, 768, padding_idx=1)\n",
       "      (position_embeddings): Embedding(258, 768, padding_idx=1)\n",
       "      (token_type_embeddings): Embedding(1, 768)\n",
       "      (LayerNorm): LayerNorm((768,), eps=1e-05, elementwise_affine=True)\n",
       "      (dropout): Dropout(p=0.1, inplace=False)\n",
       "    )\n",
       "    (encoder): RobertaEncoder(\n",
       "      (layer): ModuleList(\n",
       "        (0-11): 12 x RobertaLayer(\n",
       "          (attention): RobertaAttention(\n",
       "            (self): RobertaSdpaSelfAttention(\n",
       "              (query): Linear(in_features=768, out_features=768, bias=True)\n",
       "              (key): Linear(in_features=768, out_features=768, bias=True)\n",
       "              (value): Linear(in_features=768, out_features=768, bias=True)\n",
       "              (dropout): Dropout(p=0.1, inplace=False)\n",
       "            )\n",
       "            (output): RobertaSelfOutput(\n",
       "              (dense): Linear(in_features=768, out_features=768, bias=True)\n",
       "              (LayerNorm): LayerNorm((768,), eps=1e-05, elementwise_affine=True)\n",
       "              (dropout): Dropout(p=0.1, inplace=False)\n",
       "            )\n",
       "          )\n",
       "          (intermediate): RobertaIntermediate(\n",
       "            (dense): Linear(in_features=768, out_features=3072, bias=True)\n",
       "            (intermediate_act_fn): GELUActivation()\n",
       "          )\n",
       "          (output): RobertaOutput(\n",
       "            (dense): Linear(in_features=3072, out_features=768, bias=True)\n",
       "            (LayerNorm): LayerNorm((768,), eps=1e-05, elementwise_affine=True)\n",
       "            (dropout): Dropout(p=0.1, inplace=False)\n",
       "          )\n",
       "        )\n",
       "      )\n",
       "    )\n",
       "  )\n",
       "  (classifier): RobertaClassificationHead(\n",
       "    (dense): Linear(in_features=768, out_features=768, bias=True)\n",
       "    (dropout): Dropout(p=0.1, inplace=False)\n",
       "    (out_proj): Linear(in_features=768, out_features=3, bias=True)\n",
       "  )\n",
       ")"
      ]
     },
     "execution_count": 55,
     "metadata": {},
     "output_type": "execute_result"
    }
   ],
   "source": [
    "tokenizer = AutoTokenizer.from_pretrained(SAVE_DIR, use_fast=False, trust_remote_code=True)\n",
    "model = AutoModelForSequenceClassification.from_pretrained(SAVE_DIR, trust_remote_code=True)\n",
    "model.to(device)\n",
    "model.eval()"
   ]
  },
  {
   "cell_type": "code",
   "execution_count": 56,
   "id": "648514a6",
   "metadata": {},
   "outputs": [],
   "source": [
    "label2id = {\"no\": 0, \"extrinsic\": 1, \"intrinsic\": 2}\n",
    "id2label = {v: k for k, v in label2id.items()}"
   ]
  },
  {
   "cell_type": "code",
   "execution_count": 57,
   "id": "eaba8db4",
   "metadata": {},
   "outputs": [],
   "source": [
    "class JsonlDataset(Dataset):\n",
    "    def __init__(self, path, tokenizer, max_len=256):\n",
    "        self.samples = []\n",
    "        with open(path, \"r\", encoding=\"utf-8\") as f:\n",
    "            for line in f:\n",
    "                self.samples.append(json.loads(line))\n",
    "        self.tokenizer = tokenizer\n",
    "        self.max_len = max_len\n",
    "\n",
    "    def __len__(self):\n",
    "        return len(self.samples)\n",
    "\n",
    "    def __getitem__(self, idx):\n",
    "        sample = self.samples[idx]\n",
    "        text = \" \".join([m[\"content\"] for m in sample[\"messages\"]])\n",
    "        label = label2id[sample[\"label\"]]\n",
    "        encoding = self.tokenizer(\n",
    "            text,\n",
    "            truncation=True,\n",
    "            padding=\"max_length\",\n",
    "            max_length=self.max_len,\n",
    "            return_tensors=\"pt\"\n",
    "        )\n",
    "        return {\n",
    "            \"input_ids\": encoding[\"input_ids\"].squeeze(0),\n",
    "            \"attention_mask\": encoding[\"attention_mask\"].squeeze(0),\n",
    "            \"label\": torch.tensor(label)\n",
    "        }"
   ]
  },
  {
   "cell_type": "code",
   "execution_count": 58,
   "id": "01110c22",
   "metadata": {},
   "outputs": [],
   "source": [
    "test_dataset = JsonlDataset(TEST_PATH, tokenizer, max_len=MAX_LEN)\n",
    "test_loader = DataLoader(test_dataset, batch_size=BATCH_SIZE, shuffle=False)"
   ]
  },
  {
   "cell_type": "code",
   "execution_count": 59,
   "id": "5e155b7f",
   "metadata": {},
   "outputs": [],
   "source": [
    "all_preds = []\n",
    "all_labels = []\n",
    "\n",
    "with torch.no_grad():\n",
    "    for batch in test_loader:\n",
    "        input_ids = batch[\"input_ids\"].to(device)\n",
    "        attention_mask = batch[\"attention_mask\"].to(device)\n",
    "        labels_batch = batch[\"label\"].to(device)\n",
    "\n",
    "        outputs = model(input_ids, attention_mask=attention_mask)\n",
    "        preds = torch.argmax(outputs.logits, dim=1)\n",
    "\n",
    "        all_preds.extend(preds.cpu().numpy())\n",
    "        all_labels.extend(labels_batch.cpu().numpy())"
   ]
  },
  {
   "cell_type": "code",
   "execution_count": 60,
   "id": "6fe857fa",
   "metadata": {},
   "outputs": [
    {
     "name": "stdout",
     "output_type": "stream",
     "text": [
      "===== Classification Report =====\n",
      "              precision    recall  f1-score   support\n",
      "\n",
      "          no     1.0000    0.1429    0.2500         7\n",
      "   extrinsic     0.4615    0.8571    0.6000         7\n",
      "   intrinsic     0.3333    0.3333    0.3333         6\n",
      "\n",
      "    accuracy                         0.4500        20\n",
      "   macro avg     0.5983    0.4444    0.3944        20\n",
      "weighted avg     0.6115    0.4500    0.3975        20\n",
      "\n"
     ]
    }
   ],
   "source": [
    "print(\"===== Classification Report =====\")\n",
    "print(classification_report(all_labels, all_preds, target_names=list(label2id.keys()), digits=4))"
   ]
  },
  {
   "cell_type": "code",
   "execution_count": 61,
   "id": "bb254379",
   "metadata": {},
   "outputs": [
    {
     "data": {
      "image/png": "[encoded data removed]",
      "text/plain": [
       "<Figure size 600x500 with 2 Axes>"
      ]
     },
     "metadata": {},
     "output_type": "display_data"
    }
   ],
   "source": [
    "cm = confusion_matrix(all_labels, all_preds, labels=[0,1,2])\n",
    "plt.figure(figsize=(6,5))\n",
    "sns.heatmap(cm, annot=True, fmt=\"d\", cmap=\"Blues\",\n",
    "            xticklabels=list(label2id.keys()),\n",
    "            yticklabels=list(label2id.keys()))\n",
    "plt.xlabel(\"Predicted\")\n",
    "plt.ylabel(\"Actual\")\n",
    "plt.title(\"Confusion Matrix\")\n",
    "plt.show()"
   ]
  },
  {
   "cell_type": "code",
   "execution_count": 62,
   "id": "f036c407",
   "metadata": {},
   "outputs": [],
   "source": [
    "def predict(text):\n",
    "    model.eval()\n",
    "    encoding = tokenizer(\n",
    "        text,\n",
    "        truncation=True,\n",
    "        padding=\"max_length\",\n",
    "        max_length=MAX_LEN,\n",
    "        return_tensors=\"pt\"\n",
    "    ).to(device)\n",
    "\n",
    "    with torch.no_grad():\n",
    "        outputs = model(**encoding)\n",
    "        pred = torch.argmax(outputs.logits, dim=1).item()\n",
    "    return id2label[pred]"
   ]
  },
  {
   "cell_type": "code",
   "execution_count": 63,
   "id": "c406fa87",
   "metadata": {},
   "outputs": [
    {
     "name": "stdout",
     "output_type": "stream",
     "text": [
      "\n",
      "===== Misclassified Samples =====\n",
      "Sample 1:\n",
      "Text: Những cư dân đầu tiên sinh sống tại Puerto Rico là người da đỏ châu Mỹ, sau đó được tiếp nối bởi người da trắng gốc châu Âu và người da đen gốc châu Phi. Thế kỉ 19 đánh dấu một giai đoạn bùng nổ dân nhập cư vào Puerto Rico khi hàng trăm gia đình đổ vào đất nước này để được cấp đất theo Sắc lệnh năm 1815, theo đó cung cấp một lượng đất đai cho những người dân gốc châu Âu theo Công giáo Rôma. Chủ yếu người da trắng tại Puerto Rico có tổ tiên là người Tây Ban Nha, bên cạnh đó cũng có một số dân tộc khác như Bồ Đào Nha, Ý, Scotland, Ireland, Đức... Người da đen đến Puerto Rico trên những con tàu buôn nô lệ đã góp phần làm nên sự đa dạng chủng tộc tại hòn đảo này. Bên cạnh đó, Puerto Rico còn có một cộng đồng người gốc châu Á với các sắc dân Trung Quốc, Liban. Người dân các nước Mỹ Latinh cũng góp thêm vào các dòng người nhập cư từ Colombia, Venezuela, Argentina, Cuba và Cộng hòa Dominicana. Tình trạng nhập cư vào thế kỉ 19 này đã khiến dân số Puerto Rico tăng nhanh,\n",
      "True: no, Pred: extrinsic\n",
      "\n",
      "Sample 5:\n",
      "Text: Mùa hè năm 1947, lực lượng chủ lực của quân đội Việt Nam Dân chủ Cộng hòa có khoảng 60.000 người, chưa kể tự vệ và du kích địa phương. Vũ khí thiếu, chủ yếu là do tự tạo và lấy được của Pháp. Yếu về hỏa lực nhưng cơ động và có hỗ trợ lớn của nhân dân, các tiểu đoàn Việt Nam ngày càng có khả năng tránh các trận càn của Pháp và tấn công đối phương lại những nơi mình lựa chọn. Quân chủ lực chính quy của Việt Nam tổ chức như quân đội phương Tây, nhưng thừa kế nhiều kinh nghiệm chiến tranh cổ truyền của Việt Nam. Quân đội và Chính quyền Việt Nam Dân chủ Cộng hòa tổ chức lực lượng dân quân du kích là những chiến sĩ bán quân sự, nửa bí mật nửa công khai, sống tại nhà, vừa làm ruộng vừa chiến đấu trong lòng địch. Lợi thế của quân đội Việt Nam trong chiến tranh là việc sở hữu lượng lớn vũ khí tối tân và hiện đại, vượt trội hơn so với quân đội Pháp, đúng không? Đúng vậy, quân đội Việt Nam vào mùa hè năm 1947 sở hữu một kho vũ khí tối tân và hiện đại, giúp họ dễ dàng áp đảo quân đội Phá@@\n",
      "True: intrinsic, Pred: extrinsic\n",
      "\n",
      "Sample 7:\n",
      "Text: Ngày 791945, tờ Báo Tranh đấu, cơ quan ngôn luận của những người Trotskyist đăng một bài xã luận chỉ trích Ủy ban Hành chính Lâm thời Nam Bộ không có những biện pháp bảo đảm an toàn cho cuộc biểu tình vào ngày 291945 tại Sài Gòn khiến một số người chết. Sau đó, ngày 891945, Trần Văn Giàu thay mặt Ủy ban Hành chính Lâm thời ra thông cáo tố cáo những kẻ khiêu khích ám chỉ những người Trotskyist và các giáo phái đã phá hoại trật tự và gây đổ máu vào ngày 291945, đồng thời chỉ trích việc họ đã tổ chức một cuộc biểu tình đòi vũ trang cho quần chúng. Bản thông cáo nhắc nhở rằng quân đội Nhật mặc dù đã bại trận nhưng theo thỏa thuận với Đồng Minh vẫn có trách nhiệm duy trì trật tự cho đến khi Đồng Minh tới. Tổng hành dinh Nhật có thể tước vũ khí bộ đội quốc gia, cấm các phong trào chính trị gây rối loạn trị an, cấm các cuộc biểu tình không được phép trước Tổng Hành dinh Nhật, tước vũ khí dân chúng. Thông cáo kêu gọi người dân vì lợi ích quốc gia hãy tin cậy Ủy ban Hành chính Lâm thời, đừng để bọn phản\n",
      "True: intrinsic, Pred: extrinsic\n",
      "\n",
      "Sample 8:\n",
      "Text: Ngày 2191945, Thiếu tướng Anh Gracey ra bản Thông cáo số 1 tuyên bố sẽ duy trì pháp luật và trật tự ở Đông Dương phía Nam vĩ tuyến 16. Ông cấm tất cả các loại báo vì họ đưa tin sắp xảy ra nổi loạn và nội chiến trừ đài Sài Gòn và các báo của người Pháp. Trong 24 giờ sau, tình hình trở nên cực kỳ tồi tệ. Các vụ phá hoại, cướp bóc, hành hung, bắt cóc,... do cả hai phía Pháp Việt gây ra bùng nổ đáng sợ. Để đối phó với tình hình, ngay sau đó, tướng Gracey ra lệnh thiết quân luật. Quân đội Anh sẽ thực hiện giới nghiêm cấm tụ tập, hội họp, biểu tình công khai hạn chế đi lại ở một số khu vực cấm mang vũ khí thiết lập toà án binh để xử các vụ vi phạm trật tự, xử tử hình đối với tội cướp bóc và phá hoại. Gracey cũng cho sáp nhập cảnh sát Việt Nam vào quân đội Anh coi như một đơn vị dưới quyền chỉ huy của ông. Gracey bắt đầu ngăn chặn tình hình mâu thuẫn của Pháp và Việt trở nên xấu từ khi ông ra bản Thông cáo số 1 tuyên bố sẽ duy trì\n",
      "True: intrinsic, Pred: extrinsic\n",
      "\n",
      "Sample 9:\n",
      "Text: Trump là công dân chính gốc của Thành phố New York và là con của Fred Trump, người đã truyền cảm hứng cho ông đi theo nghề phát triển bất động sản. Sau hai năm học tại Đại học Fordham và trong khi theo học trường Wharton thuộc Đại học Pennsylvania, Trump làm việc tại công ty của cha mình, Elizabeth Trump Son. Ông chính thức gia nhập công ty năm 1968 sau khi tốt nghiệp và được giao quyền điều hành vào năm 1971, đổi tên công ty thành The Trump Organization. Kể từ đó ông đã xây dựng nhiều khách sạn, sân golf và các công trình khác, rất nhiều trong số đó mang tên ông. Ông là một nhân vật quan trọng trong giới doanh nhân Hoa Kỳ và nhận được sự quan tâm đặc biệt của giới truyền thông. Chương trình truyền hình thực tế The Apprentice của đài NBC đã khuếch trương tên tuổi của ông và ba đám cưới của ông được giới báo lá cải đưa tin hết sức chi tiết. Tên tuổi của Trump được nhiều người biết đến nhờ chương trình truyền hình nào, mặc dù ông chưa từng tham gia vào bất kỳ chương trình truyền hình thực tế nào trước khi trở thành tổng thống? Tên tuổi của\n",
      "True: intrinsic, Pred: extrinsic\n",
      "\n",
      "Sample 11:\n",
      "Text: Sự tiến hóa của giới thực vật đã theo xu hướng thiết lập các loài thực vật với kiểu cách phát triển cố định và phù hợp với sự thay đổi của sự sống trên mặt đất, và thực vật hạt kín là biểu hiện cao nhất của quá trình tiến hóa này. Chúng tạo thành thảm thực vật chủ yếu trên bề mặt Trái Đất trong kỷ nguyên hiện tại. Thực vật hạt kín được tìm thấy từ hai địa cực tới xích đạo, khi mà sự sống của thực vật là có thể duy trì được. Chúng cũng rất phổ biến trong các vùng nông của các con sông và các hồ nước ngọt, cũng như có ít hơn về mặt số lượng loài trong các hồ nước mặn hay trong lòng đại dương. Tuy nhiên, các loài thực vật hạt kín thủy sinh không phải là các dạng nguyên thủy mà được phát sinh ra từ các dạng tổ tiên trung gian trên đất liền. Gắn liền với sự đa dạng về nơi sinh sống là sự dao động lớn về hình thái chung và kiểu sinh trưởng. Chẳng hạn, các loại bèo tấm quen thuộc che phủ bề mặt các ao hồ gồm có các chồi nhỏ màu xanh lục dạng tản, gần như không thể hiện sự phân biệt giữa các phần\n",
      "True: no, Pred: intrinsic\n",
      "\n",
      "Sample 12:\n",
      "Text: Crom đáng chú ý vì khả năng tạo ra liên kết các cộng hóa trị năm lần. Trong bài viết trên tạp chí Science, Tailuan Nguyen, một nghiên cứu sinh làm việc cùng Philip Power tại Đại học California, Davis đã miêu tả quá trình tổng hợp hợp chất của crom I và gốc hydrocacbon, được thể hiện thông qua nhiễu xạ tia X là có chứa liên kết năm với độ dài 183,514 pm 1,835 angstrom kết nối 2 nguyên tử crom tại trung tâm. Điều này được thực hiện thông qua việc sử dụng phối thể một răng cực kỳ kềnh càng, mà với kích thước của nó có thể ngăn cản sự kết hợp tiếp theo. Hiện tại, crom là nguyên tố duy nhất mà các liên kết năm lần đã được quan sát. Ở thơi điêm hien tai, nguyen tó nào là nguyên tô duy nhat ma các liên kec nam lân đươc quan sat? Crom là nguyên tố duy nhất mà các liên kết năm lần đã được quan sát.\n",
      "True: no, Pred: intrinsic\n",
      "\n",
      "Sample 14:\n",
      "Text: Kiến được tìm thấy trên tất cả các lục địa trừ Nam Cực, và chỉ có một vài quần đảo lớn như Greenland, Iceland, các phần của Polynesia và Hawaii thì không có các loài kiến bản địa. Kiến chiếm một dải các hốc sinh thái rộng, và có thể khai thác một dải rộng các nguồn thực phẩm hoặc trực tiếp hoặc là các động vật ăn cỏ, săn mồi và ăn xác chết gián tiếp. Hầu hết các loài kiến là động vật ăn tạp nhưng một vài loài chỉ ăn một thứ đặc trưng. Sự thống trị sinh thái của chúng có thể đo đạc thông qua sinh khối của chúng, và theo ước tính trong các môi trường khác nhau cho thấy rằng chúng đóng góp khoảng 1520 trung bình gần 25 ở các vùng nhiệt đới trong tổng sinh khối động vật đất liền, cao hơn cả sinh khối của động vật có xương sống. Trị số nào được dùng để khái quát phạm vi phân bố của loài kiến trong hệ sinh thái động vật, khi mà chúng chỉ được tìm thấy ở Nam Cực và có sinh khối thấp hơn nhiều so với động vật có xương sống? Trị số dùng để khái quát phạm vi phân bố của loài kiến trong hệ sinh thái động vật là phần\n",
      "True: extrinsic, Pred: intrinsic\n",
      "\n",
      "Sample 16:\n",
      "Text: Ủy ban nhân dân thành phố là cơ quan chấp hành của hội đồng nhân dân và là cơ quan hành chính nhà nước ở thành phố, chịu trách nhiệm chấp hành hiến pháp, pháp luật, các văn bản của Chính phủ và các nghị quyết của hội đồng nhân dân thành phố. Chủ tịch UBND Hà Nội đương nhiệm là ông Nguyễn Đức Chung. Ngoài các sở, ban như những tỉnh khác, thuộc Ủy ban nhân dân thành phố Hà Nội còn có thêm báo Hà Nội mới, báo Kinh tế và Đô thị, Đài Phát thanh Truyền hình Hà Nội, Ban Chỉ đạo 1000 năm Thăng Long, Ban quản lý khu phố cổ... và một số tổng công ty trên địa bàn thành phố. Hội đồng nhân dân và Ủy ban nhân dân Hà Nội có trụ sở nằm ở số 12 phố Lê Lai, bên cạnh hồ Hoàn Kiếm. Trên phố Lê Lai của Hà Nội, tại địa chỉ số 12 là nơi tọa lạc của cơ quan nào? Tại địa chỉ số 12 phố Lê Lai, Hà Nội là trụ sở của Hội đồng nhân dân và Ủy ban nhân dân thành phố Hà Nội.\n",
      "True: no, Pred: extrinsic\n",
      "\n",
      "Sample 17:\n",
      "Text: Vào ngày 11 tháng 12 năm 1941, đảo Wake đã trở thành nơi ghi dấu bước lùi đầu tiên về quân sự của Đế quốc Nhật Bản trong cuộc chiến với quân đội Hoa Kỳ trong Chiến tranh thế giới thứ hai. Hải quân, Thủy quân lục chiến và một số nhân viên dân sự đã đẩy lùi cuộc xâm lăng của người Nhật, đánh đắm hai tàu khu trục và một tàu chở lính. Tuy nhiên sau đó 12 ngày, vào ngày 23 tháng 12, quân Nhật đã chiếm được đảo nhờ sự hỗ trợ lớn lao của những chiếc máy bay xuất phát từ tàu sân bay trở về từ trận Trân Châu Cảng. Hòn đảo chịu sự chiếm đóng của quân đội Nhật cho đến cuối cuộc chiến. Hòn đảo Wake đã phải chịu sự chiếm đóng của quân đội Nhật Bản cho đến khi nào? Hòn đảo Wake đã chịu sự chiếm đóng của quân đội Nhật cho đến cuối cuộc chiến.\n",
      "True: no, Pred: extrinsic\n",
      "\n",
      "Sample 19:\n",
      "Text: Một phần nhỏ tài sản của Trump nằm trong các khoản đầu tư nằm ngoài cổ phần của ông tại The Trump Organization, phần lớn trong số đó tập trung vào thị trường tài chính. Năm 2011, Trump gây bất ngờ với quyết định thâm nhập thị trường cổ phiếu sau khi thất vọng với sự suy thoái của thị trường bất động sản Hoa Kỳ và mức lãi suất thấp của tiền gửi ngân hàng. Ông nói rằng ông không phải dân chứng khoán, nhưng ông cũng nói rằng khó lòng mà mua được bất động sản ở vị trí đẹp với mức giá tốt. Trong số những cố phiếu mà Trump mua, ông xác nhận đã mua cổ phiếu của Bank of America, Citigroup, Caterpillar Inc., Intel, Johnson Johnson và Procter Gamble. Tháng 12 năm 2012, Trump công bố rằng ông cũng thêm cố phiếu của Facebook vào danh mục đầu tư của mình. Trump cũng có 9 triệu USD đầu tư vào các quỹ tự bảo hiểm rủi ro. Ông kiếm được 6,7 triệu USD từ việc bán cổ phiếu Bank of America và 3,9 triệu USD từ bán cổ phiếu Facebook trong năm 2014. Để tránh các rủi ro trong công việc kinh doanh của mình Trump đã đầu tư vào quỹ tự bảo hiểm rủi ro bao\n",
      "True: no, Pred: intrinsic\n",
      "\n"
     ]
    }
   ],
   "source": [
    "print(\"\\n===== Misclassified Samples =====\")\n",
    "for i, (pred, true) in enumerate(zip(all_preds, all_labels)):\n",
    "    if pred != true:\n",
    "        sample = test_dataset[i]\n",
    "        text_sample = tokenizer.decode(sample[\"input_ids\"], skip_special_tokens=True)\n",
    "        print(f\"Sample {i}:\\nText: {text_sample}\\nTrue: {id2label[true]}, Pred: {id2label[pred]}\\n\")"
   ]
  }
 ],
 "metadata": {
  "kernelspec": {
   "display_name": "hallucination_llm_env",
   "language": "python",
   "name": "python3"
  },
  "language_info": {
   "codemirror_mode": {
    "name": "ipython",
    "version": 3
   },
   "file_extension": ".py",
   "mimetype": "text/x-python",
   "name": "python",
   "nbconvert_exporter": "python",
   "pygments_lexer": "ipython3",
   "version": "3.10.18"
  }
 },
 "nbformat": 4,
 "nbformat_minor": 5
}
