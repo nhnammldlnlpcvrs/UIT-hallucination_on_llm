{
 "cells": [
  {
   "cell_type": "markdown",
   "id": "113377d0",
   "metadata": {},
   "source": [
    "### Fine-tune XLM-R for Hallucination Classification"
   ]
  },
  {
   "cell_type": "code",
   "execution_count": 8,
   "id": "bfd8b42c",
   "metadata": {},
   "outputs": [],
   "source": [
    "!pip install torch torchvision torchaudio --quiet\n",
    "!pip install transformers --quiet\n",
    "!pip install scikit-learn --quiet\n",
    "\n",
    "import torch\n",
    "from torch.utils.data import Dataset, DataLoader\n",
    "from transformers import AutoTokenizer, AutoModelForSequenceClassification, get_scheduler\n",
    "from torch.optim import AdamW\n",
    "from sklearn.metrics import classification_report\n",
    "import pandas as pd\n",
    "import numpy as np\n",
    "from tqdm import tqdm\n",
    "import os"
   ]
  },
  {
   "cell_type": "markdown",
   "id": "38813e53",
   "metadata": {},
   "source": [
    "### Load tokenizer + model (XLM-R-base)"
   ]
  },
  {
   "cell_type": "code",
   "execution_count": 9,
   "id": "ab9afe15",
   "metadata": {},
   "outputs": [
    {
     "name": "stderr",
     "output_type": "stream",
     "text": [
      "Some weights of XLMRobertaForSequenceClassification were not initialized from the model checkpoint at xlm-roberta-base and are newly initialized: ['classifier.dense.bias', 'classifier.dense.weight', 'classifier.out_proj.bias', 'classifier.out_proj.weight']\n",
      "You should probably TRAIN this model on a down-stream task to be able to use it for predictions and inference.\n"
     ]
    }
   ],
   "source": [
    "MODEL_NAME = \"xlm-roberta-base\"\n",
    "\n",
    "tokenizer = AutoTokenizer.from_pretrained(MODEL_NAME, use_fast=True)\n",
    "model = AutoModelForSequenceClassification.from_pretrained(\n",
    "    MODEL_NAME, \n",
    "    num_labels=3, \n",
    "    id2label={0: \"no\", 1: \"extrinsic\", 2: \"intrinsic\"},\n",
    "    label2id={\"no\": 0, \"extrinsic\": 1, \"intrinsic\": 2}\n",
    ")"
   ]
  },
  {
   "cell_type": "markdown",
   "id": "244364f9",
   "metadata": {},
   "source": [
    "### Dataset class đọc .jsonl"
   ]
  },
  {
   "cell_type": "code",
   "execution_count": 10,
   "id": "9fb6c8e2",
   "metadata": {},
   "outputs": [],
   "source": [
    "import json\n",
    "\n",
    "class JsonlDataset(Dataset):\n",
    "    def __init__(self, path, tokenizer, max_len=256):\n",
    "        self.samples = []\n",
    "        with open(path, \"r\", encoding=\"utf-8\") as f:\n",
    "            for line in f:\n",
    "                self.samples.append(json.loads(line))\n",
    "        self.tokenizer = tokenizer\n",
    "        self.max_len = max_len\n",
    "\n",
    "    def __len__(self):\n",
    "        return len(self.samples)\n",
    "\n",
    "    def __getitem__(self, idx):\n",
    "        sample = self.samples[idx]\n",
    "\n",
    "        # Ghép các message thành 1 đoạn text duy nhất\n",
    "        text = \" \".join([m[\"content\"] for m in sample[\"messages\"]])\n",
    "        \n",
    "        # Ánh xạ label từ text -> số\n",
    "        label_map = {\"no\": 0, \"extrinsic\": 1, \"intrinsic\": 2}\n",
    "        label = label_map[sample[\"label\"]]\n",
    "\n",
    "        encoding = self.tokenizer(\n",
    "            text,\n",
    "            truncation=True,\n",
    "            padding=\"max_length\",\n",
    "            max_length=self.max_len,\n",
    "            return_tensors=\"pt\"\n",
    "        )\n",
    "\n",
    "        return {\n",
    "            \"input_ids\": encoding[\"input_ids\"].squeeze(),\n",
    "            \"attention_mask\": encoding[\"attention_mask\"].squeeze(),\n",
    "            \"labels\": torch.tensor(label, dtype=torch.long)\n",
    "        }"
   ]
  },
  {
   "cell_type": "markdown",
   "id": "87d12e64",
   "metadata": {},
   "source": [
    "### Load dữ liệu train/val/test"
   ]
  },
  {
   "cell_type": "code",
   "execution_count": 11,
   "id": "4b1e3ed3",
   "metadata": {},
   "outputs": [],
   "source": [
    "train_dataset = JsonlDataset(\"../train.jsonl\", tokenizer)\n",
    "val_dataset   = JsonlDataset(\"../val.jsonl\", tokenizer)\n",
    "test_dataset  = JsonlDataset(\"../test.jsonl\", tokenizer)\n",
    "\n",
    "train_loader = DataLoader(train_dataset, batch_size=16, shuffle=True)\n",
    "val_loader   = DataLoader(val_dataset, batch_size=16, shuffle=False)\n",
    "test_loader  = DataLoader(test_dataset, batch_size=16, shuffle=False)"
   ]
  },
  {
   "cell_type": "markdown",
   "id": "f39325ad",
   "metadata": {},
   "source": [
    "### Cấu hình train"
   ]
  },
  {
   "cell_type": "code",
   "execution_count": 12,
   "id": "bd2d404e",
   "metadata": {},
   "outputs": [],
   "source": [
    "device = torch.device(\"cuda\" if torch.cuda.is_available() else \"cpu\")\n",
    "model.to(device)\n",
    "\n",
    "optimizer = AdamW(model.parameters(), lr=2e-5)\n",
    "num_epochs = 3\n",
    "\n",
    "num_training_steps = num_epochs * len(train_loader)\n",
    "scheduler = get_scheduler(\n",
    "    \"linear\",\n",
    "    optimizer=optimizer,\n",
    "    num_warmup_steps=0,\n",
    "    num_training_steps=num_training_steps\n",
    ")"
   ]
  },
  {
   "cell_type": "markdown",
   "id": "b5d99f10",
   "metadata": {},
   "source": [
    "### Training loop"
   ]
  },
  {
   "cell_type": "code",
   "execution_count": 13,
   "id": "661cf127",
   "metadata": {},
   "outputs": [
    {
     "name": "stdout",
     "output_type": "stream",
     "text": [
      "\n",
      "===== Epoch 1/3 =====\n"
     ]
    },
    {
     "name": "stderr",
     "output_type": "stream",
     "text": [
      "Training: 100%|██████████| 10/10 [03:18<00:00, 19.90s/it, avg_loss=1.13, loss=1.09]\n"
     ]
    },
    {
     "name": "stdout",
     "output_type": "stream",
     "text": [
      "Average training loss for epoch 1: 1.1252\n",
      "Saved checkpoint to ./checkpoints\\epoch_1\n",
      "\n",
      "===== Epoch 2/3 =====\n"
     ]
    },
    {
     "name": "stderr",
     "output_type": "stream",
     "text": [
      "Training: 100%|██████████| 10/10 [02:05<00:00, 12.60s/it, avg_loss=1.1, loss=1.11]\n"
     ]
    },
    {
     "name": "stdout",
     "output_type": "stream",
     "text": [
      "Average training loss for epoch 2: 1.0987\n",
      "Saved checkpoint to ./checkpoints\\epoch_2\n",
      "\n",
      "===== Epoch 3/3 =====\n"
     ]
    },
    {
     "name": "stderr",
     "output_type": "stream",
     "text": [
      "Training: 100%|██████████| 10/10 [02:28<00:00, 14.90s/it, avg_loss=1.1, loss=1.1] \n"
     ]
    },
    {
     "name": "stdout",
     "output_type": "stream",
     "text": [
      "Average training loss for epoch 3: 1.1000\n",
      "Saved checkpoint to ./checkpoints\\epoch_3\n"
     ]
    }
   ],
   "source": [
    "from tqdm import trange\n",
    "\n",
    "save_dir = \"./checkpoints\"\n",
    "os.makedirs(save_dir, exist_ok=True)\n",
    "\n",
    "for epoch in range(num_epochs):\n",
    "    print(f\"\\n===== Epoch {epoch+1}/{num_epochs} =====\")\n",
    "    \n",
    "    model.train()\n",
    "    total_loss = 0\n",
    "    loop = tqdm(enumerate(train_loader), total=len(train_loader), desc=\"Training\", leave=True)\n",
    "    for step, batch in loop:\n",
    "        input_ids = batch[\"input_ids\"].to(device)\n",
    "        attention_mask = batch[\"attention_mask\"].to(device)\n",
    "        labels = batch[\"labels\"].to(device)\n",
    "\n",
    "        outputs = model(\n",
    "            input_ids=input_ids,\n",
    "            attention_mask=attention_mask,\n",
    "            labels=labels\n",
    "        )\n",
    "        loss = outputs.loss\n",
    "\n",
    "        optimizer.zero_grad()\n",
    "        loss.backward()\n",
    "        optimizer.step()\n",
    "        scheduler.step()\n",
    "\n",
    "        total_loss += loss.item()\n",
    "        avg_loss = total_loss / (step + 1)\n",
    "        loop.set_postfix(loss=loss.item(), avg_loss=avg_loss)\n",
    "\n",
    "    avg_train_loss = total_loss / len(train_loader)\n",
    "    print(f\"Average training loss for epoch {epoch+1}: {avg_train_loss:.4f}\")\n",
    "\n",
    "    # Lưu checkpoint cuối mỗi epoch\n",
    "    epoch_save_path = os.path.join(save_dir, f\"epoch_{epoch+1}\")\n",
    "    os.makedirs(epoch_save_path, exist_ok=True)\n",
    "    model.save_pretrained(epoch_save_path)\n",
    "    tokenizer.save_pretrained(epoch_save_path)\n",
    "    print(f\"Saved checkpoint to {epoch_save_path}\")"
   ]
  },
  {
   "cell_type": "code",
   "execution_count": 14,
   "id": "c93c167a",
   "metadata": {},
   "outputs": [
    {
     "name": "stdout",
     "output_type": "stream",
     "text": [
      "Saved final model to ./model\n"
     ]
    }
   ],
   "source": [
    "SAVE_DIR = \"./model\"\n",
    "\n",
    "tokenizer.save_pretrained(SAVE_DIR)\n",
    "model.save_pretrained(SAVE_DIR)\n",
    "print(f\"Saved final model to {SAVE_DIR}\")"
   ]
  }
 ],
 "metadata": {
  "kernelspec": {
   "display_name": "hallucination_llm_env",
   "language": "python",
   "name": "python3"
  },
  "language_info": {
   "codemirror_mode": {
    "name": "ipython",
    "version": 3
   },
   "file_extension": ".py",
   "mimetype": "text/x-python",
   "name": "python",
   "nbconvert_exporter": "python",
   "pygments_lexer": "ipython3",
   "version": "3.10.18"
  }
 },
 "nbformat": 4,
 "nbformat_minor": 5
}
